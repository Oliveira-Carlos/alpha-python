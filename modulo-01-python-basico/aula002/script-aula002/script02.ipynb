{
 "cells": [
  {
   "attachments": {},
   "cell_type": "markdown",
   "metadata": {},
   "source": [
    "Lista de Exercícios 002 – Python Desvio Condicional"
   ]
  },
  {
   "attachments": {},
   "cell_type": "markdown",
   "metadata": {},
   "source": [
    "Exercício 002-1: Faça um Programa que peça um valor e mostre na tela se o valor é positivo ou negativo."
   ]
  },
  {
   "cell_type": "code",
   "execution_count": 6,
   "metadata": {},
   "outputs": [
    {
     "name": "stdout",
     "output_type": "stream",
     "text": [
      "-9.897 Is negative\n"
     ]
    }
   ],
   "source": [
    "positive_or_negative = float(input(\"enter a Number\"))\n",
    "\n",
    "if positive_or_negative < 0 :\n",
    "    print(f\"{positive_or_negative} Is negative\")\n",
    "else :\n",
    "    print(f\"{positive_or_negative} Is positive\")"
   ]
  },
  {
   "attachments": {},
   "cell_type": "markdown",
   "metadata": {},
   "source": [
    "Exercício 002-2: Faça um Programa que verifique se uma letra digitada é \"F\" ou \"M\". Conforme a letra escrever: F - Feminino, M - Masculino, Sexo Inválido. "
   ]
  },
  {
   "cell_type": "code",
   "execution_count": 23,
   "metadata": {},
   "outputs": [
    {
     "name": "stdout",
     "output_type": "stream",
     "text": [
      "invalid\n"
     ]
    }
   ],
   "source": [
    "male_or_female = input(\"Enter M or F\")\n",
    "\n",
    "if male_or_female.upper() == \"M\" :\n",
    "    print(\"Male\")\n",
    "elif male_or_female.upper() == \"F\" :\n",
    "    print(\"Female\")\n",
    "else :\n",
    "    print(\"invalid\")"
   ]
  },
  {
   "attachments": {},
   "cell_type": "markdown",
   "metadata": {},
   "source": [
    "Exercício 002-3: Faça um Programa que verifique se uma letra digitada é vogal ou consoante. "
   ]
  },
  {
   "cell_type": "code",
   "execution_count": 8,
   "metadata": {},
   "outputs": [
    {
     "name": "stdout",
     "output_type": "stream",
     "text": [
      "Is consonant\n"
     ]
    }
   ],
   "source": [
    "vowel_or_consonant = input(\"Enter a vowel or a consonant\")\n",
    "\n",
    "vowels = (\"a\", \"e\", \"i\", \"o\", \"u\")\n",
    "\n",
    "if vowel_or_consonant.lower() in vowels:\n",
    "    print(\"Is vowel\")\n",
    "else :\n",
    "    print(\"Is consonant\")"
   ]
  },
  {
   "attachments": {},
   "cell_type": "markdown",
   "metadata": {},
   "source": [
    "Exercício 002- 4: Faça um Programa que leia três números e mostre-os em ordem decrescente. "
   ]
  },
  {
   "cell_type": "code",
   "execution_count": 9,
   "metadata": {},
   "outputs": [
    {
     "name": "stdout",
     "output_type": "stream",
     "text": [
      "7.9 6.0 3.4\n"
     ]
    }
   ],
   "source": [
    "number_one = float(input(\"Enter a number\"))\n",
    "number_two = float(input(\"Enter a number\"))\n",
    "number_three = float(input(\"Enter a number\"))\n",
    "\n",
    "if (number_one < number_two) and (number_one < number_three):\n",
    "    if number_two < number_three:\n",
    "        print(number_three, number_two, number_one)\n",
    "    else:\n",
    "        print(number_two, number_three, number_one)\n",
    "elif (number_two < number_one) and (number_two < number_three):\n",
    "    if number_one < number_three:\n",
    "        print(number_three, number_one, number_two)\n",
    "    else:\n",
    "        print(number_one, number_three, number_two)\n",
    "else:\n",
    "    if number_one < number_two:\n",
    "        print(number_two, number_one, number_three)\n",
    "    else:\n",
    "        print(number_one, number_two, number_three)\n"
   ]
  },
  {
   "attachments": {},
   "cell_type": "markdown",
   "metadata": {},
   "source": [
    "Exercício 002-5: As Organizações Tabajara resolveram dar um aumento de salário aos seus colaboradores. Eles contrataram você para desenvolver o programa que calculará os reajustes. \n",
    "Faça um programa que recebe o salário de um colaborador e o reajuste segundo o seguinte critério, baseado no salário atual: \n",
    "salários até R$ 280,00 (incluindo) : aumento de 20% \n",
    "salários entre R$ 280,00 e R$ 700,00 : aumento de 15% \n",
    "salários entre R$ 700,00 e R$ 1500,00 : aumento de 10% \n",
    "salários de R$ 1500,00 em diante : aumento de 5% \n",
    "Após o aumento ser realizado, informe na tela: \n",
    "o salário antes do reajuste; \n",
    "o percentual de aumento aplicado; \n",
    "o valor do aumento; \n",
    "o novo salário, após o aumento. \n"
   ]
  },
  {
   "cell_type": "code",
   "execution_count": 68,
   "metadata": {},
   "outputs": [
    {
     "name": "stdout",
     "output_type": "stream",
     "text": [
      "The salary was 354,  now it's 407.1, adjustment of 15%\n"
     ]
    }
   ],
   "source": [
    "salary = float(input(\"Enter a salary\"))\n",
    "new_salary = None\n",
    "\n",
    "if salary <= 280:\n",
    "    new_salary = round(salary * 1.2, 2)\n",
    "    print(f\"The salary was {salary},  now it's {new_salary}, adjustment of 20%\")\n",
    "elif salary < 700:\n",
    "    new_salary = round(salary * 1.15, 2)\n",
    "    print(f\"The salary was {salary},  now it's {new_salary}, adjustment of 15%\")\n",
    "elif salary < 1500:\n",
    "    new_salary = round(salary * 1.1, 2)\n",
    "    print(f\"The salary was {salary},  now it's {new_salary}, adjustment of 10%\")\n",
    "else:\n",
    "    new_salary = round(salary * 1.05, 2)\n",
    "    print(f\"The salary was {salary},  now it's {new_salary}, adjustment of 5%\")"
   ]
  },
  {
   "attachments": {},
   "cell_type": "markdown",
   "metadata": {},
   "source": [
    "Exercício 002-6: Faça um programa para o cálculo de uma folha de pagamento, sabendo que os descontos são do Imposto de Renda, que depende do salário bruto (conforme tabela abaixo) e 3% para o Sindicato e que o FGTS corresponde a 11% do Salário Bruto, mas não é descontado (é a empresa que deposita). O Salário Líquido corresponde ao Salário Bruto menos os descontos. O programa deverá pedir ao usuário o valor da sua hora e a quantidade de horas trabalhadas no mês. \n",
    "Desconto do IR: \n",
    "Salário Bruto até 900 (inclusive) - isento \n",
    "Salário Bruto até 1500 (inclusive) - desconto de 5% \n",
    "Salário Bruto até 2500 (inclusive) - desconto de 10% \n",
    "Salário Bruto acima de 2500 - desconto de 20%   Imprima na tela as informações, dispostas conforme o exemplo abaixo. No exemplo o valor da hora é 5 e a quantidade de hora é 220.\n",
    "Salário Bruto: (5 * 220)  : R$ 1100,00 (-) IR (5%)  : R$ 55,00 (-) INSS ( 10%)  : R$ 110,00 FGTS (11%)  : R$ 121,00 Total de descontos  : R$ 165,00 Salário Liquido  : R$ 935,00\n"
   ]
  },
  {
   "cell_type": "code",
   "execution_count": 80,
   "metadata": {},
   "outputs": [
    {
     "name": "stdout",
     "output_type": "stream",
     "text": [
      "Gross salary: (23 * 45)  : R$ 1035 (-) IR (5%)  : R$ 51.75 (-) INSS ( 10%)  : R$ 103.5  (-) Sindicato (3%)  : R$ 31.05   (-) FGTS (11%)  : R$ 113.85 Total descount  : R$ 186.3 Net salary  : R$ 848.7\n"
     ]
    }
   ],
   "source": [
    "worked_hours = float(input(\"enter how many hours worked\"))\n",
    "hourly_salary = float(input(\"enter the hourly salary\"))\n",
    "\n",
    "gross_salary = round(worked_hours * hourly_salary, 2)\n",
    "\n",
    "INSS_discount = round(gross_salary * 0.1, 2)\n",
    "sindicato_discount = round(gross_salary * 0.03, 2)\n",
    "FGTS_discount = round(gross_salary * 0.11, 2)\n",
    "\n",
    "IR_discount = None\n",
    "net_salary = None\n",
    "\n",
    "if gross_salary <= 900:\n",
    "    IR_discount = 0\n",
    "    total_discount = round(IR_discount + INSS_discount + sindicato_discount, 2)\n",
    "    net_salary = gross_salary - total_discount\n",
    "\n",
    "    print(f\"Gross salary: ({worked_hours} * {hourly_salary})  : R$ {gross_salary} (-) IR (isento)  : R$ {IR_discount} (-) INSS ( 10%)  : R$ {INSS_discount}  (-) Sindicato (3%)  : R$ {sindicato_discount}   (-) FGTS (11%)  : R$ {FGTS_discount} Total descount  : R$ {total_discount} Net salary  : R$ {net_salary}\")\n",
    "elif gross_salary <= 1500:\n",
    "    IR_discount = round(gross_salary * 0.05, 2)\n",
    "    total_discount = round(IR_discount + INSS_discount + sindicato_discount, 2)\n",
    "    net_salary = gross_salary - total_discount\n",
    "\n",
    "    print(f\"Gross salary: ({worked_hours} * {hourly_salary})  : R$ {gross_salary} (-) IR (5%)  : R$ {IR_discount} (-) INSS ( 10%)  : R$ {INSS_discount}  (-) Sindicato (3%)  : R$ {sindicato_discount}   (-) FGTS (11%)  : R$ {FGTS_discount} Total descount  : R$ {total_discount} Net salary  : R$ {net_salary}\")\n",
    "elif gross_salary <= 2500:\n",
    "    IR_discount = round(gross_salary * 0.1, 2)\n",
    "    total_discount = round(IR_discount + INSS_discount + sindicato_discount, 2)\n",
    "    net_salary = gross_salary - total_discount\n",
    "\n",
    "    print(f\"Gross salary: ({worked_hours} * {hourly_salary})  : R$ {gross_salary} (-) IR (10%)  : R$ {IR_discount} (-) INSS ( 10%)  : R$ {INSS_discount}  (-) Sindicato (3%)  : R$ {sindicato_discount}   (-) FGTS (11%)  : R$ {FGTS_discount} Total descount  : R$ {total_discount} Net salary  : R$ {net_salary}\")\n",
    "else:\n",
    "    IR_discount = round(gross_salary * 0.2, 2)\n",
    "    total_discount = round(IR_discount + INSS_discount + sindicato_discount, 2)\n",
    "    net_salary = gross_salary - total_discount\n",
    "\n",
    "    print(f\"Gross salary: ({worked_hours} * {hourly_salary})  = R$ {gross_salary}  (-) IR (20%)  : R$ {IR_discount} (-) INSS ( 10%)  : R$ {INSS_discount} (-) Sindicato (3%)  : R$ {sindicato_discount} (-) FGTS (11%)  : R$ {FGTS_discount} Total descount  = R$ {total_discount} Net salary (Gross salary - total descount)  = R$ {net_salary}\")\n"
   ]
  },
  {
   "attachments": {},
   "cell_type": "markdown",
   "metadata": {},
   "source": [
    "\n",
    "Exercício 002-7: O Hipermercado Tabajara está com uma promoção de carnes que é imperdível. Confira: \n",
    "Até 5 Kg Acima de 5 Kg File Duplo R$ 4,90 por Kg R$ 5,80 por Kg Alcatra R$ 5,90 por Kg R$ 6,80 por Kg Picanha R$ 6,90 por Kg R$ 7,80 por Kg Para atender a todos os clientes, cada cliente poderá levar apenas um dos tipos de carne da promoção, porém não há limites para a quantidade de carne por cliente. Se compra for feita no cartão Tabajara o cliente receberá ainda um desconto de 5% sobre o total da compra. Escreva um programa que peça o tipo e a quantidade de carne comprada pelo usuário e gere um cupom fiscal, contendo as informações da compra: tipo e quantidade de carne, preço total, tipo de pagamento, valor do desconto e valor a pagar. "
   ]
  },
  {
   "cell_type": "code",
   "execution_count": 84,
   "metadata": {},
   "outputs": [
    {
     "name": "stdout",
     "output_type": "stream",
     "text": [
      "The total price is 363.09\n"
     ]
    }
   ],
   "source": [
    "meat = input(\"enter a type of meat\")\n",
    "amount_of_meat = int(input(\"enter the amount of meat\").replace(\",\", \".\"))\n",
    "form_of_payment = input(\n",
    "    \"The form of payment is in Tabajara card? Enter 'Yes' ou 'No'\").upper()\n",
    "\n",
    "meat_price = None\n",
    "\n",
    "if meat.upper() == \"FILE DUPLO\":\n",
    "    if amount_of_meat >= 5:\n",
    "        meat_price = 4.9\n",
    "    else:\n",
    "        meat_price = 5.8\n",
    "elif meat.upper() == \"ALCATRA\":\n",
    "    if amount_of_meat >= 5:\n",
    "        meat_price = 5.9\n",
    "    else:\n",
    "        meat_price = 6.8\n",
    "elif meat.upper() == \"PICANHA\":\n",
    "    if amount_of_meat >= 5:\n",
    "        meat_price = 6.9\n",
    "    else:\n",
    "        meat_price = 7.8\n",
    "\n",
    "total_meat_price = meat_price * amount_of_meat\n",
    "\n",
    "if form_of_payment == \"YES\":\n",
    "    print(f\"The total price is {round(total_meat_price * 0.95, 2)}\")\n",
    "else:\n",
    "    print(f\"The total price is {round(total_meat_price, 2)}\")\n"
   ]
  }
 ],
 "metadata": {
  "kernelspec": {
   "display_name": "Python 3",
   "language": "python",
   "name": "python3"
  },
  "language_info": {
   "codemirror_mode": {
    "name": "ipython",
    "version": 3
   },
   "file_extension": ".py",
   "mimetype": "text/x-python",
   "name": "python",
   "nbconvert_exporter": "python",
   "pygments_lexer": "ipython3",
   "version": "3.11.1"
  },
  "orig_nbformat": 4,
  "vscode": {
   "interpreter": {
    "hash": "20527b3a8cbf72b3df8cab8923eeac6e6752d4bb535fe93fb2bb8b34083f7c9b"
   }
  }
 },
 "nbformat": 4,
 "nbformat_minor": 2
}
