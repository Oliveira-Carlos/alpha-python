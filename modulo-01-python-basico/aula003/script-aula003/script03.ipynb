{
 "cells": [
  {
   "attachments": {},
   "cell_type": "markdown",
   "metadata": {},
   "source": [
    "Exercício 003-1: Desenvolva um programa que simule o funcionamento de uma máquina de somar. \n",
    "Entrada: \n",
    "O seu programa receberá um número inteiro não negativo N que denota a quantidade de números que seu \n",
    "programa receberá para computar o valor total da soma. Na sequência seu programa receberá N números reais. \n",
    "Saída: \n",
    "O seu programa deve imprimir a frase “Total: ” seguida do valor da soma (com duas casas decimais de precisão). "
   ]
  },
  {
   "cell_type": "code",
   "execution_count": 3,
   "metadata": {},
   "outputs": [
    {
     "name": "stdout",
     "output_type": "stream",
     "text": [
      "Total 76.00 \n"
     ]
    }
   ],
   "source": [
    "how_many_numbers = int(input(\"enter a positive integer\"))\n",
    "numbers_sum = 0\n",
    "\n",
    "for number in range(how_many_numbers) :\n",
    "    number = float(input(\"enter a real number\"))\n",
    "    numbers_sum += number\n",
    "\n",
    "print(f\"Total {numbers_sum:.2f} \")"
   ]
  },
  {
   "attachments": {},
   "cell_type": "markdown",
   "metadata": {},
   "source": [
    "Exercício 003-2: Faça um temporizador de segundos (contagem regressiva) que passe a atualizar o tempo mais \n",
    "raramente. A contagem com o intervalo entre cada atualização fique dois segundos maior após cada uma delas. \n",
    "Por exemplo, se ele iniciar o temporizador com 50 segundos, então receberá atualizações dizendo que faltam 50, \n",
    "48, 44, 38, 30, 20 e 8 segundos (note que os intervalos entre as notificações foram 2, 4, 6, 8, 10 e 12 segundos). \n",
    "Desenvolva um programa que exiba em quais segundos o temporizador receberá atualizações, dado que o \n",
    "programa tenha sido inicializado com um tempo igual a N. \n",
    "Entrada: \n",
    "O seu programa deve receber um número inteiro positivo N, que é o tempo inicial do temporizador. \n",
    "Saída: \n",
    "Seu programa deve escrever a saída conforme os exemplos abaixo. \n"
   ]
  },
  {
   "cell_type": "code",
   "execution_count": 30,
   "metadata": {},
   "outputs": [
    {
     "name": "stdout",
     "output_type": "stream",
     "text": [
      "faltam 50 segundos\n",
      "faltam 48 segundos\n",
      "faltam 44 segundos\n",
      "faltam 38 segundos\n",
      "faltam 30 segundos\n",
      "faltam 20 segundos\n",
      "faltam 8 segundos\n",
      "acabou\n"
     ]
    }
   ],
   "source": [
    "import time\n",
    "\n",
    "timer = int(input(\"enter a integer number\"))\n",
    "interval = 0\n",
    "\n",
    "while timer >= 0:\n",
    "    print(f\"faltam {timer} segundos\")\n",
    "\n",
    "    interval += 2\n",
    "    time.sleep(interval)\n",
    "    timer -= interval\n",
    "    if timer <= 0:\n",
    "        print(\"acabou\")\n",
    "        break"
   ]
  },
  {
   "attachments": {},
   "cell_type": "markdown",
   "metadata": {},
   "source": [
    "Exercício 003-3:.Crie um programa que permita verificar se um número N é fatorial ou não. N é fatorial caso \n",
    "exista um número X >= 0 tal que N = X!. \n",
    "Entrada: \n",
    "O programa recebe um número inteiro N maior ou igual a zero. \n",
    "Saída: \n",
    "O programa deve imprimir Verdadeiro se N é fatorial, caso contrário deve imprimir Falso. \n",
    "Exemplos: Entrada N e Saída (Verdadeiro ou Falso), não precisa imprimir na mesma linha. \n",
    "1 Verdadeiro \n",
    "2 Verdadeiro \n",
    "3 Falso \n",
    "6 Verdadeiro \n",
    "12 Falso \n",
    "24 Verdadeiro \n",
    "7777 Falso \n",
    "1307674368000 Verdadeiro \n",
    "943675496 Falso"
   ]
  },
  {
   "cell_type": "code",
   "execution_count": 134,
   "metadata": {},
   "outputs": [
    {
     "name": "stdout",
     "output_type": "stream",
     "text": [
      "False\n"
     ]
    }
   ],
   "source": [
    "import math\n",
    "\n",
    "is_factorial = int(input(\"Enter a integer number\"))\n",
    "results = []\n",
    "\n",
    "for i in range(is_factorial):\n",
    "\n",
    "    if math.factorial(i + 1) > is_factorial:\n",
    "        break\n",
    "\n",
    "    while i + 1 > 0:\n",
    "        if is_factorial == math.factorial(i + 1):\n",
    "            results.append(True)\n",
    "            break\n",
    "\n",
    "        elif is_factorial != math.factorial(i + 1):\n",
    "            results.append(False)\n",
    "            break\n",
    "\n",
    "if True in results:\n",
    "    print(\"True\")\n",
    "else:\n",
    "    print(\"False\")\n"
   ]
  },
  {
   "attachments": {},
   "cell_type": "markdown",
   "metadata": {},
   "source": [
    "Exercício 003- 4:.Crie um programa que permita imprimir uma representação de um tabuleiro de xadrez. \n",
    "Entrada: \n",
    "O programa recebe um número inteiro, maior ou igual a 1, que indica a dimensão do tabuleiro. \n",
    "Saída: \n",
    "O programa deve desenhar o tabuleiro com dois caracteres que representam as divisões em cores diferentes \n",
    "conforme exemplos apresentados a seguir. (dica: print(“x”,end=””) não muda de linha)"
   ]
  },
  {
   "cell_type": "code",
   "execution_count": 13,
   "metadata": {},
   "outputs": [
    {
     "name": "stdout",
     "output_type": "stream",
     "text": [
      "oxoxox\n",
      "oxoxox\n",
      "oxoxox\n",
      "oxoxox\n",
      "oxoxox\n",
      "oxoxox\n"
     ]
    }
   ],
   "source": [
    "number_of_squares = int(input(\"Enter a number of squares of the board\"))\n",
    "chessboard = \"\"\n",
    "\n",
    "while number_of_squares < 1:\n",
    "    number_of_squares = int(input(\"Enter a number of squares of the board\"))\n",
    "\n",
    "for i in range(number_of_squares):\n",
    "    if (i + 1) % 2 == 0:\n",
    "        chessboard += \"x\"\n",
    "    else:\n",
    "        chessboard += \"o\"\n",
    "    \n",
    "for i in range(len(chessboard)):\n",
    "    print(chessboard)"
   ]
  },
  {
   "attachments": {},
   "cell_type": "markdown",
   "metadata": {},
   "source": [
    "Exercício 003-5: Ao observar a curva de velocidade de um motor, um engenheiro percebeu que sempre ocorria \n",
    "uma queda de velocidade quando medições eram feitas em intervalos de 10 ms. Após realizar alguns testes, ele \n",
    "observou que tais quedas não ocorriam necessariamente no mesmo momento. Intrigado pela falta de padrão, \n",
    "agora ele quer a sua ajuda para saber: dado um caso de teste, qual a primeira medição em que ocorreu uma \n",
    "queda de velocidade? \n",
    "Entrada: \n",
    "A primeira linha contém um número inteiro N (1 < N ≤ 100) representando a quantidade de medições de \n",
    "velocidade do motor em um determinado teste. Cada uma das próximas N linhas consiste de um único inteiro M \n",
    "(0 ≤ M ≤ 10000) representando o número de RPM (rotações por minuto) daquela medida. \n",
    "Saída: \n",
    "A saída é o índice da medição em que ocorreu a primeira queda de velocidade. Caso não aconteça nenhuma \n",
    "queda, o seu programa deve imprimir o número 0. (dica: não precisa armazenar os valores em nenhuma lista, já \n",
    "no mesmo instante da leitura deve ser feito o cálculo se o valor lido é menor que o número imediatamente \n",
    "anterior)."
   ]
  },
  {
   "cell_type": "code",
   "execution_count": 39,
   "metadata": {},
   "outputs": [
    {
     "name": "stdout",
     "output_type": "stream",
     "text": [
      "0\n"
     ]
    }
   ],
   "source": [
    "amount_of_measurements = int(input(\"how many measurements?\"))\n",
    "current_measure = 0\n",
    "\n",
    "for i in range(amount_of_measurements):\n",
    "    measure = float(input(\"enter a measure\"))\n",
    "    if measure < current_measure:\n",
    "        print(i + 1)\n",
    "        break\n",
    "    elif i+1 == amount_of_measurements:\n",
    "        print(0)\n",
    "    current_measure = measure\n"
   ]
  }
 ],
 "metadata": {
  "kernelspec": {
   "display_name": "Python 3",
   "language": "python",
   "name": "python3"
  },
  "language_info": {
   "codemirror_mode": {
    "name": "ipython",
    "version": 3
   },
   "file_extension": ".py",
   "mimetype": "text/x-python",
   "name": "python",
   "nbconvert_exporter": "python",
   "pygments_lexer": "ipython3",
   "version": "3.11.1"
  },
  "orig_nbformat": 4,
  "vscode": {
   "interpreter": {
    "hash": "20527b3a8cbf72b3df8cab8923eeac6e6752d4bb535fe93fb2bb8b34083f7c9b"
   }
  }
 },
 "nbformat": 4,
 "nbformat_minor": 2
}
