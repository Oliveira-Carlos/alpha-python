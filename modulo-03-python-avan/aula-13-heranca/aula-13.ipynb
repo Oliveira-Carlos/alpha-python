{
 "cells": [
  {
   "attachments": {},
   "cell_type": "markdown",
   "metadata": {},
   "source": [
    "Crie a classe Polygon com um construtor que recebe “sides: List[float]” e um método “display_sides() -> List[float]”.\n",
    "\n",
    "Crie também a classe Triangle que herda o Polygon e implementa o “find_area() -> float”."
   ]
  },
  {
   "cell_type": "code",
   "execution_count": 1,
   "metadata": {},
   "outputs": [
    {
     "name": "stdout",
     "output_type": "stream",
     "text": [
      "2.9047375096555625\n",
      "1.984313483298443\n",
      "1.7320508075688772\n",
      "one of the sides has a length greater than or equal to the sum of the lengths of the other two sides (forming a degenerate triangle).\n",
      "None\n",
      "one of the sides has a negative length.\n",
      "None\n"
     ]
    }
   ],
   "source": [
    "from typing import List\n",
    "from math import sqrt\n",
    "\n",
    "\n",
    "class Polygon:\n",
    "    \"\"\"\n",
    "    The Polygon class has a constructor that takes a list of floats representing the lengths of its sides, and a method display_sides() that returns the sides.\n",
    "    \"\"\"\n",
    "\n",
    "    def __init__(self, sides: List[float]) -> None:\n",
    "        self.sides = sides\n",
    "\n",
    "    def display_sides(self) -> List[float]:\n",
    "        return self.sides\n",
    "\n",
    "\n",
    "class Triangle(Polygon):\n",
    "    \"\"\"\n",
    "    The Triangle class inherits from Polygon and implements a find_area() method to calculate the area of the triangle using Heron's formula.\n",
    "    \"\"\"\n",
    "\n",
    "    def find_area(self):\n",
    "        a, b, c = self.sides[0], self.sides[1], self.sides[2]\n",
    "\n",
    "        if a < 0 or b < 0 or c < 0:\n",
    "            return print(\"one of the sides has a negative length.\")\n",
    "        elif a > b + c or b > a + c or c > a + b:\n",
    "            return print(\"one of the sides has a length greater than or equal to the sum of the lengths of the other two sides (forming a degenerate triangle).\")\n",
    "        else:\n",
    "            s = (a + b + c) / 2\n",
    "            area = sqrt(s * (s-a) * (s-b) * (s-c))\n",
    "\n",
    "            return area\n",
    "\n",
    "\n",
    "test_1 = Triangle([2, 3, 4])\n",
    "test_2 = Triangle([2, 3, 2])\n",
    "test_3 = Triangle([2, 2, 2])\n",
    "test_4 = Triangle([2, 2, 20])\n",
    "test_5 = Triangle([2, 2, -2])\n",
    "\n",
    "print(test_1.find_area())\n",
    "print(test_2.find_area())\n",
    "print(test_3.find_area())\n",
    "print(test_4.find_area())\n",
    "print(test_5.find_area())"
   ]
  }
 ],
 "metadata": {
  "kernelspec": {
   "display_name": "Python 3",
   "language": "python",
   "name": "python3"
  },
  "language_info": {
   "codemirror_mode": {
    "name": "ipython",
    "version": 3
   },
   "file_extension": ".py",
   "mimetype": "text/x-python",
   "name": "python",
   "nbconvert_exporter": "python",
   "pygments_lexer": "ipython3",
   "version": "3.11.2"
  },
  "orig_nbformat": 4,
  "vscode": {
   "interpreter": {
    "hash": "8c306c216fa3c182df22c6016bc7ef2799f0fcfe60a9237aff1a3a7fdcce1a61"
   }
  }
 },
 "nbformat": 4,
 "nbformat_minor": 2
}
