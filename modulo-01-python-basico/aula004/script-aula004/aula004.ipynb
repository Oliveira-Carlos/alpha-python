{
 "cells": [
  {
   "attachments": {},
   "cell_type": "markdown",
   "metadata": {},
   "source": [
    "Exercício 005-1:"
   ]
  },
  {
   "cell_type": "code",
   "execution_count": 60,
   "metadata": {},
   "outputs": [
    {
     "name": "stdout",
     "output_type": "stream",
     "text": [
      "Ken win!\n"
     ]
    }
   ],
   "source": [
    "life_ryu = 100\n",
    "life_ken = 100\n",
    "\n",
    "score = 0\n",
    "\n",
    "player_blows = input(\"type integers\").split()\n",
    "\n",
    "for i in player_blows:\n",
    "    i = int(i)\n",
    "\n",
    "    if i > 0:\n",
    "        life_ken -= i\n",
    "    elif i < 0:\n",
    "        life_ryu += i\n",
    "    else:\n",
    "        pass\n",
    "\n",
    "    if life_ryu <= 0:\n",
    "        score -= 1\n",
    "        life_ryu = 100\n",
    "        life_ken = 100\n",
    "    elif life_ken <= 0:\n",
    "        score += 1\n",
    "        life_ryu = 100\n",
    "        life_ken = 100\n",
    "    else:\n",
    "        pass\n",
    "\n",
    "    if i == 0:\n",
    "        if score > 0:\n",
    "            print(\"Ryu win!\")\n",
    "        elif score < 0:\n",
    "            print(\"Ken win!\")\n",
    "        else:\n",
    "            print(\"fight tied\")"
   ]
  },
  {
   "attachments": {},
   "cell_type": "markdown",
   "metadata": {},
   "source": [
    "Exercício 005-2:"
   ]
  },
  {
   "cell_type": "code",
   "execution_count": 39,
   "metadata": {},
   "outputs": [
    {
     "name": "stdout",
     "output_type": "stream",
     "text": [
      "Nao faz sntido vivr sm podr pdalar\n"
     ]
    }
   ],
   "source": [
    "text = \"\"\n",
    "\n",
    "while True:\n",
    "    string_c = input(\"type one letter\")\n",
    "    if len(string_c) == 1:\n",
    "        break\n",
    "\n",
    "string_s = input(\"type a text\")\n",
    "\n",
    "for i in string_s:\n",
    "    if i.lower() != string_c.lower():\n",
    "        text += i\n",
    "    \n",
    "print(text)\n"
   ]
  },
  {
   "attachments": {},
   "cell_type": "markdown",
   "metadata": {},
   "source": [
    "Exercício 005-3:"
   ]
  },
  {
   "cell_type": "code",
   "execution_count": 38,
   "metadata": {},
   "outputs": [
    {
     "name": "stdout",
     "output_type": "stream",
     "text": [
      "Pndmnhngb\n"
     ]
    }
   ],
   "source": [
    "from unidecode import unidecode #para tirar os acentos das palavras\n",
    "\n",
    "vowels = [\"a\", \"e\", \"i\", \"o\", \"u\"]\n",
    "word_without_accent = \"\"\n",
    "\n",
    "input_word = unidecode(input(\"type a word without an accent\"))\n",
    "\n",
    "for i in input_word:\n",
    "    if i.lower() not in vowels:\n",
    "        word_without_accent += i\n",
    "\n",
    "print(word_without_accent)"
   ]
  },
  {
   "attachments": {},
   "cell_type": "markdown",
   "metadata": {},
   "source": [
    "Exercício 005-4:"
   ]
  },
  {
   "cell_type": "code",
   "execution_count": 4,
   "metadata": {},
   "outputs": [
    {
     "name": "stdout",
     "output_type": "stream",
     "text": [
      "coalrilvoesira\n"
     ]
    }
   ],
   "source": [
    "input_string = input(\n",
    "    \"enter two words separated by a whitespace character\").split()\n",
    "\n",
    "string_1 = input_string[0]\n",
    "string_2 = input_string[1]\n",
    "\n",
    "concatenated_string = \"\"\n",
    "\n",
    "counter_strings = 0\n",
    "while True:\n",
    "    if counter_strings < len(string_1):\n",
    "        concatenated_string += string_1[counter_strings]\n",
    "    if counter_strings < len(string_2):\n",
    "        concatenated_string += string_2[counter_strings]\n",
    "\n",
    "    counter_strings += 1\n",
    "\n",
    "    if counter_strings >= len(string_1) and counter_strings >= len(string_2):\n",
    "        break\n",
    "\n",
    "print(concatenated_string)"
   ]
  },
  {
   "attachments": {},
   "cell_type": "markdown",
   "metadata": {},
   "source": [
    "Exercício 005-5:"
   ]
  },
  {
   "cell_type": "code",
   "execution_count": 22,
   "metadata": {},
   "outputs": [
    {
     "name": "stdout",
     "output_type": "stream",
     "text": [
      "NO\n"
     ]
    }
   ],
   "source": [
    "from unidecode import unidecode\n",
    "\n",
    "input_sentence = unidecode(input(\"type a sentence\")).lower()\n",
    "\n",
    "is_pangrama = []\n",
    "\n",
    "alphabet = [\"a\", \"b\", \"c\", \"d\", \"e\", \"f\", \"g\", \"h\", \"i\", \"j\", \"k\",\n",
    "            \"l\", \"m\", \"n\", \"o\", \"p\", \"q\", \"r\", \"s\", \"u\", \"v\", \"w\", \"x\", \"y\", \"z\"]\n",
    "\n",
    "for i in alphabet:\n",
    "    if i in input_sentence:\n",
    "        is_pangrama.append(True)\n",
    "    else:\n",
    "        is_pangrama.append(False)\n",
    "\n",
    "if False in is_pangrama:\n",
    "    print(\"NO\")\n",
    "else:\n",
    "    print(\"YES\")"
   ]
  },
  {
   "attachments": {},
   "cell_type": "markdown",
   "metadata": {},
   "source": [
    "Exercício 005-6:"
   ]
  },
  {
   "cell_type": "code",
   "execution_count": 47,
   "metadata": {},
   "outputs": [
    {
     "name": "stdout",
     "output_type": "stream",
     "text": [
      "28 28 2 11 69\n",
      "There is 40.58% vowels\n",
      "There is 40.58% consonants\n",
      "There is 15.94% blank spaces\n",
      "There is 2.90% punctuations\n"
     ]
    }
   ],
   "source": [
    "list_vowels = [\"a\", \"e\", \"i\", \"o\", \"u\"]\n",
    "list_consonant = [\"a\", \"b\", \"c\", \"d\", \"e\", \"f\", \"g\", \"h\", \"i\", \"j\", \"k\",\n",
    "                  \"l\", \"m\", \"n\", \"o\", \"p\", \"q\", \"r\", \"s\", \"u\", \"v\", \"w\", \"x\", \"y\", \"z\"]\n",
    "list_punctuations = [\".\", \",\", \"!\", \"?\", \"-\"]\n",
    "\n",
    "\n",
    "amount_vowels = 0\n",
    "amount_consonants = 0\n",
    "amount_punctuations = 0\n",
    "blank_spaces = 0\n",
    "\n",
    "percentage_sentence = input(\"Type a sentence\").lower()\n",
    "\n",
    "for i in percentage_sentence:\n",
    "    if i in list_vowels:\n",
    "        amount_vowels += 1\n",
    "    elif i in list_consonant:\n",
    "        amount_consonants += 1\n",
    "    elif i in list_punctuations:\n",
    "        amount_punctuations += 1\n",
    "    elif i == \" \":\n",
    "        blank_spaces += 1\n",
    "    else:\n",
    "        pass\n",
    "\n",
    "print(amount_vowels, amount_consonants, amount_punctuations,\n",
    "      blank_spaces, len(percentage_sentence))\n",
    "\n",
    "print(f\"There is {((amount_vowels * 100) / len(percentage_sentence)):.2f}% vowels\")\n",
    "print(f\"There is {((amount_consonants * 100) / len(percentage_sentence)):.2f}% consonants\")\n",
    "print(f\"There is {((blank_spaces * 100) / len(percentage_sentence)):.2f}% blank spaces\")\n",
    "print(f\"There is {((amount_punctuations * 100) / len(percentage_sentence)):.2f}% punctuations\")\n"
   ]
  }
 ],
 "metadata": {
  "kernelspec": {
   "display_name": "Python 3",
   "language": "python",
   "name": "python3"
  },
  "language_info": {
   "codemirror_mode": {
    "name": "ipython",
    "version": 3
   },
   "file_extension": ".py",
   "mimetype": "text/x-python",
   "name": "python",
   "nbconvert_exporter": "python",
   "pygments_lexer": "ipython3",
   "version": "3.11.1"
  },
  "orig_nbformat": 4,
  "vscode": {
   "interpreter": {
    "hash": "20527b3a8cbf72b3df8cab8923eeac6e6752d4bb535fe93fb2bb8b34083f7c9b"
   }
  }
 },
 "nbformat": 4,
 "nbformat_minor": 2
}
