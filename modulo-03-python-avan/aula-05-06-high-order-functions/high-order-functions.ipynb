{
 "cells": [
  {
   "attachments": {},
   "cell_type": "markdown",
   "metadata": {},
   "source": [
    "Defina uma função chamada weird_prod que recebe como argumento uma lista de números inteiros e devolve o produto do primeiro elemento, pelo quadrado do segundo, pelo cubo do terceiro, e assim sucessivamente."
   ]
  },
  {
   "cell_type": "code",
   "execution_count": 1,
   "metadata": {},
   "outputs": [
    {
     "name": "stdout",
     "output_type": "stream",
     "text": [
      "the final product is 1152\n"
     ]
    }
   ],
   "source": [
    "from typing import Callable, List\n",
    "from functools import reduce\n",
    "\n",
    "generic_list = [2, 3, 4]\n",
    "\n",
    "\n",
    "def weird_prod(numbers: List[int]) -> List[int]:\n",
    "    \"\"\"\n",
    "    Returns a list of modified numbers based on the input numbers.\n",
    "\n",
    "    Args:\n",
    "        numbers: A list of integers.\n",
    "\n",
    "    Returns:\n",
    "        A list of integers where each element is the result of raising the corresponding\n",
    "        number to a power equal to its index plus one.\n",
    "\n",
    "    Example:\n",
    "    >>> weird_prod([2, 3, 4])\n",
    "    [2, 9, 64]\n",
    "    \"\"\"\n",
    "\n",
    "    modified_list = []\n",
    "    for i in range(len(numbers)):\n",
    "        modified_number = numbers[i] ** (i + 1)\n",
    "\n",
    "        modified_list.append(modified_number)\n",
    "\n",
    "    return modified_list\n",
    "\n",
    "\n",
    "def reduce_list(list: List[int]) -> int:\n",
    "    \"\"\"\n",
    "    Returns the product of the modified numbers in the input list.\n",
    "\n",
    "    Args:\n",
    "        list: A list of integers.\n",
    "\n",
    "    Returns:\n",
    "        An integer representing the product of the modified numbers in the list.\n",
    "\n",
    "    Example:\n",
    "    >>> reduce_list([2, 3, 4])\n",
    "    1152\n",
    "    \"\"\"\n",
    "\n",
    "    reduced_list = weird_prod(list)\n",
    "    prod_int = reduce(lambda x, y: x * y, reduced_list)\n",
    "    return prod_int\n",
    "\n",
    "\n",
    "def print_reduced_list(number: int) -> None:\n",
    "    \"\"\"\n",
    "    Prints the final product to the standard output.\n",
    "\n",
    "    Args:\n",
    "        number: An integer.\n",
    "\n",
    "    Returns:\n",
    "        None.\n",
    "\n",
    "    Example:\n",
    "    >>> print_reduced_list(1152)\n",
    "    the final product is 1152\n",
    "    \"\"\"\n",
    "\n",
    "    print(f\"the final product is {number}\")\n",
    "\n",
    "\n",
    "final_product = reduce_list(generic_list)\n",
    "print_reduced_list(final_product)\n"
   ]
  }
 ],
 "metadata": {
  "kernelspec": {
   "display_name": "Python 3",
   "language": "python",
   "name": "python3"
  },
  "language_info": {
   "codemirror_mode": {
    "name": "ipython",
    "version": 3
   },
   "file_extension": ".py",
   "mimetype": "text/x-python",
   "name": "python",
   "nbconvert_exporter": "python",
   "pygments_lexer": "ipython3",
   "version": "3.11.2"
  },
  "orig_nbformat": 4,
  "vscode": {
   "interpreter": {
    "hash": "20527b3a8cbf72b3df8cab8923eeac6e6752d4bb535fe93fb2bb8b34083f7c9b"
   }
  }
 },
 "nbformat": 4,
 "nbformat_minor": 2
}
