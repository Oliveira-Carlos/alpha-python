{
 "cells": [
  {
   "attachments": {},
   "cell_type": "markdown",
   "metadata": {},
   "source": [
    "Exercício 001-1: A fórmula para calcular a área de uma circunferência é: área = pi . raio². Crie um programa para ler o valor do raio e efetuar o cálculo da área. Entrada: A entrada contém um número real, positivo, representando o raio. Saída: Seu programa deve imprimir na tela a área do círculo com 4 casas após o ponto decimal."
   ]
  },
  {
   "cell_type": "code",
   "execution_count": 5,
   "metadata": {},
   "outputs": [
    {
     "name": "stdout",
     "output_type": "stream",
     "text": [
      "9851.744\n"
     ]
    }
   ],
   "source": [
    "raio = float(input(\"qual o valor do raio?\"))\n",
    "area = round(3.1415 * raio ** 2, 4)\n",
    "print(area)"
   ]
  },
  {
   "attachments": {},
   "cell_type": "markdown",
   "metadata": {},
   "source": [
    "Exercício 001-2: Faça um programa que leia os comprimentos dos 3 lados a, b, c de um paralelepípedo. Então calcule o seu volume e sua diagonal principal, dados pelas seguintes expressões, respectivamente: \n",
    "V = a . b . c\n",
    "d = sqrt ( a2 + b2 +c2 ), sendo sqrt a função raiz quadrada da biblioteca math\n",
    "atribuindo os resultados às variáveis V e d. A seguir, apresente as variáveis com as mensagens correspondentes, conforme exemplos abaixo. A saída deve imprimir duas casas decimais.\n"
   ]
  },
  {
   "cell_type": "code",
   "execution_count": 12,
   "metadata": {},
   "outputs": [
    {
     "name": "stdout",
     "output_type": "stream",
     "text": [
      "volume: 72.0 \n",
      "diagonal principal: 7.81\n"
     ]
    }
   ],
   "source": [
    "import math\n",
    "\n",
    "ladoA = float(input(\"Digite o valor do lado\"))\n",
    "ladoB = float(input(\"Digite o valor do lado\"))\n",
    "ladoC = float(input(\"Digite o valor do lado\"))\n",
    "\n",
    "volume = round(ladoA * ladoB * ladoC, 2)\n",
    "diagonalPrincipal = round(math.sqrt(ladoA ** 2 + ladoB ** 2 + ladoC ** 2), 2)\n",
    "\n",
    "print(f\"volume: {volume} \\ndiagonal principal: {diagonalPrincipal}\")"
   ]
  },
  {
   "attachments": {},
   "cell_type": "markdown",
   "metadata": {},
   "source": [
    "Exercício 001-3: A conversão de graus Fahrenheit para Celsius é dada pela expressão:\n",
    "C . 1.8 = F - 32\n",
    "e a conversão de Kelvin para graus Celsius é dada por\n",
    "C = k - 273.15\n",
    "Faça um programa que recebe como entrada a temperatura em graus Celsius e realize duas conversões: uma para Fahrenheit e outra para Kelvin.\n"
   ]
  },
  {
   "cell_type": "code",
   "execution_count": 6,
   "metadata": {},
   "outputs": [
    {
     "name": "stdout",
     "output_type": "stream",
     "text": [
      "temperatura em Fahrenheit : 86.0\n",
      "temperatura em Kelvin : 303.0\n"
     ]
    }
   ],
   "source": [
    "temp_celsius = float(input(\"Digite a temperatura em graus Celsius\"))\n",
    "\n",
    "temp_fahrenheit = (9 * temp_celsius + 160) / 5\n",
    "temp_kelvin = temp_celsius + 273\n",
    "\n",
    "print(f\"temperatura em Fahrenheit : {temp_fahrenheit}\")\n",
    "print(f\"temperatura em Kelvin : {temp_kelvin}\")\n"
   ]
  },
  {
   "attachments": {},
   "cell_type": "markdown",
   "metadata": {},
   "source": [
    "Exercício 001-4: Leia dois números inteiros a, b, e dois números em ponto flutuante x, y. Então calcule a expressão:\n",
    "a + bx – sqrt(b) + ( (a+b) / (x-y) )\n",
    "atribuindo o resultado à variável expressao. A seguir, mostre a variável expressao com a mensagem correspondente, conforme exemplos abaixo. A saída deve imprimir duas casas decimais.\n"
   ]
  },
  {
   "cell_type": "code",
   "execution_count": 8,
   "metadata": {},
   "outputs": [
    {
     "name": "stdout",
     "output_type": "stream",
     "text": [
      "86.27\n"
     ]
    }
   ],
   "source": [
    "num_a = int(input(\"Digite o número A\"))\n",
    "num_b = int(input(\"Digite o número B\"))\n",
    "num_x = float(input(\"Digite o número X\"))\n",
    "num_y = float(input(\"Digite o número Y\"))\n",
    "\n",
    "expressao = round(num_a + num_b ** num_x - math.sqrt(num_b) + ((num_a + num_b) / (num_x - num_y)) , 2)\n",
    "print(expressao)"
   ]
  },
  {
   "attachments": {},
   "cell_type": "markdown",
   "metadata": {},
   "source": [
    "Exercício 001-5: Faça um programa que leia o nome de um vendedor, o seu salário fixo e o total de vendas efetuadas por ele no mês (em dinheiro). Sabendo que este vendedor ganha 5% de comissão sobre suas vendas efetuadas, informar o total a receber no final do mês, com duas casas decimais."
   ]
  },
  {
   "cell_type": "code",
   "execution_count": 10,
   "metadata": {},
   "outputs": [
    {
     "name": "stdout",
     "output_type": "stream",
     "text": [
      "Salário total do vendedor carlos: R$ 3600.0 \n"
     ]
    }
   ],
   "source": [
    "nome_vendedor = input(\"Nome do vendedor\")\n",
    "salario_fixo = float(input(\"Salário fixo\"))\n",
    "vendas_efetuadas = float(input(\"Vendas efetuadas (em dinheiro)\"))\n",
    "\n",
    "comissao = vendas_efetuadas * 0.05\n",
    "\n",
    "salario_total = round(salario_fixo + comissao, 2)\n",
    "\n",
    "print(f\"Salário total do vendedor {nome_vendedor}: R$ {salario_total} \")\n"
   ]
  },
  {
   "attachments": {},
   "cell_type": "markdown",
   "metadata": {},
   "source": [
    "Exercício 001-6: Faça um programa que leia três números inteiros e apresente o maior dos três valores. Nesta questão está proibido usar if (isto é, não deve se usar nenhuma estrutura condicional) ou a função max, mas vai precisar usar a função abs(z) que retorna com o valor do módulo, sem sinal do parâmetro. Dica: A seguinte fórmula permite calcular o maior valor dados os números x e y:\n",
    "Max(x,y) = (x+y)/2 + abs(y-x)/2\n"
   ]
  },
  {
   "cell_type": "code",
   "execution_count": 25,
   "metadata": {},
   "outputs": [
    {
     "name": "stdout",
     "output_type": "stream",
     "text": [
      "o maior dentre os 3 números é: 76.0\n"
     ]
    }
   ],
   "source": [
    "num1 = int(input(\"Digite um número\"))\n",
    "num2 = int(input(\"Digite um número\"))\n",
    "num3 = int(input(\"Digite um número\"))\n",
    "\n",
    "maior_1_2 = ((num1 + num2)/2 + abs(num2 - num1)/2)\n",
    "maior = ((maior_1_2 + num3)/2 + abs(num3 - maior_1_2)/2)\n",
    "\n",
    "print(f\"o maior dentre os 3 números é: {maior}\")"
   ]
  },
  {
   "attachments": {},
   "cell_type": "markdown",
   "metadata": {},
   "source": [
    "Exercício 001-7: Faça um programa que leia um valor inteiro representando um valor em reais e calcule o menor número de cédulas possíveis no qual o valor pode ser decomposto. As cédulas consideradas são as de R$200.00, R$100.00, R$50.00, R$20.00, R$10.00, R$5.00, R$2.00 e R$1.00. Seu programa deve imprimir a quantidade de cada cédula. Dica: divisão inteira usa // e resto da divisão usa %\n",
    "Assim valor total R$ 1317,00 quantas notas de R$ 200,00\n",
    "qtdNotas200 = valorTotal // 200\n",
    "resulta 6 notas de 200 e agora o resto seria\n",
    "restoValor = valorTotal % 200\n",
    "resulta 117"
   ]
  },
  {
   "cell_type": "code",
   "execution_count": 28,
   "metadata": {},
   "outputs": [
    {
     "name": "stdout",
     "output_type": "stream",
     "text": [
      "Valor total: 2589 \n",
      "Notas de 200: 12 \n",
      "Notas de 100: 1 \n",
      "Notas de 50: 1 \n",
      "Notas de 20: 1 \n",
      "Notas de 10: 1 \n",
      "Notas de 5: 1 \n",
      "Notas de 2: 2 \n",
      "Notas de 1: 0 \n",
      "\n"
     ]
    }
   ],
   "source": [
    "valor_total = int(input(\"Digite um valor em reais\"))\n",
    "\n",
    "resto_valor = None\n",
    "\n",
    "nota_200 = valor_total // 200\n",
    "resto_valor = valor_total % 200\n",
    "\n",
    "nota_100 = resto_valor // 100\n",
    "resto_valor = resto_valor % 100\n",
    "\n",
    "nota_50 = resto_valor // 50\n",
    "resto_valor = resto_valor % 50\n",
    "\n",
    "nota_20 = resto_valor // 20\n",
    "resto_valor = resto_valor % 20\n",
    "\n",
    "nota_10 = resto_valor // 10\n",
    "resto_valor = resto_valor % 10\n",
    "\n",
    "nota_5 = resto_valor // 5\n",
    "resto_valor = resto_valor % 5\n",
    "\n",
    "nota_2 = resto_valor // 2\n",
    "resto_valor = resto_valor % 2\n",
    "\n",
    "nota_1 = resto_valor // 1\n",
    "resto_valor = resto_valor % 1\n",
    "\n",
    "print(f\"Valor total: {valor_total} \\nNotas de 200: {nota_200} \\nNotas de 100: {nota_100} \\nNotas de 50: {nota_50} \\nNotas de 20: {nota_20} \\nNotas de 10: {nota_10} \\nNotas de 5: {nota_5} \\nNotas de 2: {nota_2} \\nNotas de 1: {nota_1} \\n\")"
   ]
  }
 ],
 "metadata": {
  "kernelspec": {
   "display_name": "Python 3",
   "language": "python",
   "name": "python3"
  },
  "language_info": {
   "codemirror_mode": {
    "name": "ipython",
    "version": 3
   },
   "file_extension": ".py",
   "mimetype": "text/x-python",
   "name": "python",
   "nbconvert_exporter": "python",
   "pygments_lexer": "ipython3",
   "version": "3.11.1"
  },
  "orig_nbformat": 4,
  "vscode": {
   "interpreter": {
    "hash": "20527b3a8cbf72b3df8cab8923eeac6e6752d4bb535fe93fb2bb8b34083f7c9b"
   }
  }
 },
 "nbformat": 4,
 "nbformat_minor": 2
}
