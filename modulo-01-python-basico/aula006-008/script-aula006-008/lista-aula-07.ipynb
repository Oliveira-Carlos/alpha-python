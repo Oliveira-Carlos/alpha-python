{
 "cells": [
  {
   "attachments": {},
   "cell_type": "markdown",
   "metadata": {},
   "source": [
    "Questão 1"
   ]
  },
  {
   "cell_type": "code",
   "execution_count": 27,
   "metadata": {},
   "outputs": [
    {
     "name": "stdout",
     "output_type": "stream",
     "text": [
      "Pos [0, 1]\n",
      "Pos [1, 2]\n"
     ]
    }
   ],
   "source": [
    "n_input = int(input(\"Type the size of the array\"))\n",
    "\n",
    "n_vector = []\n",
    "consecutive = []\n",
    "\n",
    "for i in range(n_input):\n",
    "    n_vector.append(int(input(\"Type a integer\")))\n",
    "\n",
    "for i in range(len(n_vector)):\n",
    "    if n_vector[i] == n_vector[i-1] and i != 0:\n",
    "        consecutive.append([i-1, i])\n",
    "\n",
    "for i in range(len(consecutive)):\n",
    "    if len(consecutive) != 0:\n",
    "        print(f\"Pos {consecutive[i]}\")"
   ]
  },
  {
   "attachments": {},
   "cell_type": "markdown",
   "metadata": {},
   "source": [
    "Questão 2"
   ]
  },
  {
   "cell_type": "code",
   "execution_count": 38,
   "metadata": {},
   "outputs": [
    {
     "name": "stdout",
     "output_type": "stream",
     "text": [
      "lady\n",
      "iron\n",
      "metalica\n",
      "ACDC\n",
      "ABBA\n"
     ]
    }
   ],
   "source": [
    "string_input = int(input(\"enter the number of words\"))\n",
    "\n",
    "string_of_words = []\n",
    "\n",
    "for i in range(string_input):\n",
    "    string_of_words.append(input(\"Type a word\"))\n",
    "\n",
    "string_of_words.reverse()\n",
    "\n",
    "for i in range(len(string_of_words)):\n",
    "    print(string_of_words[i])"
   ]
  },
  {
   "attachments": {},
   "cell_type": "markdown",
   "metadata": {},
   "source": [
    "Questão 3"
   ]
  },
  {
   "cell_type": "code",
   "execution_count": 43,
   "metadata": {},
   "outputs": [
    {
     "name": "stdout",
     "output_type": "stream",
     "text": [
      "there are no equal elements\n"
     ]
    }
   ],
   "source": [
    "first_vector = input(\"Type a first list\")\n",
    "second_vector = input(\"Type a second list\")\n",
    "\n",
    "equal_elements = []\n",
    "\n",
    "list_first_vector = first_vector.split()\n",
    "list_second_vector = second_vector.split()\n",
    "\n",
    "for i in list_second_vector:\n",
    "    if i in first_vector:\n",
    "        equal_elements.append(i)\n",
    "    else:\n",
    "        pass\n",
    "\n",
    "if len(equal_elements) != 0:\n",
    "    for n in equal_elements: print(n)\n",
    "else:\n",
    "    print(\"there are no equal elements\")"
   ]
  },
  {
   "attachments": {},
   "cell_type": "markdown",
   "metadata": {},
   "source": [
    "Questão 4"
   ]
  },
  {
   "cell_type": "code",
   "execution_count": 50,
   "metadata": {},
   "outputs": [
    {
     "name": "stdout",
     "output_type": "stream",
     "text": [
      "[5, 5]\n"
     ]
    }
   ],
   "source": [
    "while True:\n",
    "    even_number = int(input(\"Type a even number\"))\n",
    "    if even_number % 2 == 0:\n",
    "        break\n",
    "\n",
    "pair_list = []\n",
    "fold_list = []\n",
    "\n",
    "while True:\n",
    "    pair_list = input(\"type a list\").split()\n",
    "    if len(pair_list) == even_number:\n",
    "        break\n",
    "\n",
    "for i in range(int(even_number / 2)):\n",
    "    soma = 0\n",
    "    soma = int(pair_list.pop(0)) + int(pair_list.pop(-1))\n",
    "    fold_list.append(soma)\n",
    "\n",
    "print(fold_list)"
   ]
  },
  {
   "attachments": {},
   "cell_type": "markdown",
   "metadata": {},
   "source": [
    "Questão 5"
   ]
  },
  {
   "cell_type": "code",
   "execution_count": 4,
   "metadata": {},
   "outputs": [
    {
     "name": "stdout",
     "output_type": "stream",
     "text": [
      "[1, 2, 3]\n"
     ]
    }
   ],
   "source": [
    "while True:\n",
    "    odd_number = int(input(\"Type a odd number\"))\n",
    "    if odd_number % 2 != 0 and odd_number > 0:\n",
    "        break\n",
    "\n",
    "odd_list = []\n",
    "\n",
    "while True:\n",
    "    odd_list = input(\"type a list\").split()\n",
    "    if len(odd_list) == odd_number:\n",
    "        break\n",
    "\n",
    "odd_list = [int(n) for n in odd_list]\n",
    "\n",
    "for i in range(odd_number // 2):\n",
    "    if odd_list[i] > odd_list[odd_number - i - 1]:\n",
    "        odd_list[i], odd_list[odd_number - i - 1] = odd_list[odd_number - i - 1], odd_list[i]\n",
    "    else:\n",
    "        pass\n",
    "\n",
    "print(odd_list)\n"
   ]
  }
 ],
 "metadata": {
  "kernelspec": {
   "display_name": "Python 3",
   "language": "python",
   "name": "python3"
  },
  "language_info": {
   "codemirror_mode": {
    "name": "ipython",
    "version": 3
   },
   "file_extension": ".py",
   "mimetype": "text/x-python",
   "name": "python",
   "nbconvert_exporter": "python",
   "pygments_lexer": "ipython3",
   "version": "3.11.2"
  },
  "orig_nbformat": 4,
  "vscode": {
   "interpreter": {
    "hash": "20527b3a8cbf72b3df8cab8923eeac6e6752d4bb535fe93fb2bb8b34083f7c9b"
   }
  }
 },
 "nbformat": 4,
 "nbformat_minor": 2
}
