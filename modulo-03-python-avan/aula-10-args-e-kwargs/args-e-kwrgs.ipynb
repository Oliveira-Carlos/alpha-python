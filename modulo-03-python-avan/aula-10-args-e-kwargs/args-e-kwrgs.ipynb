{
 "cells": [
  {
   "attachments": {},
   "cell_type": "markdown",
   "metadata": {},
   "source": [
    "Question 01"
   ]
  },
  {
   "cell_type": "code",
   "execution_count": 30,
   "metadata": {},
   "outputs": [
    {
     "name": "stdout",
     "output_type": "stream",
     "text": [
      "carlos\n",
      "oliveira\n",
      "24\n",
      "python\n",
      "\n",
      "\n",
      "Carro\n",
      "100\n",
      "50\n",
      "Pedra\n",
      "\n",
      "\n",
      "brasil\n",
      "Paí\n",
      "Mundo\n",
      "Carro\n",
      "100\n",
      "50\n",
      "Pedra\n",
      "\n",
      "\n",
      "brasil\n",
      "País\n",
      "Gol\n",
      "Carro\n",
      "10\n",
      "\n",
      "\n"
     ]
    }
   ],
   "source": [
    "def teste_args(param, other_param, *args) -> None:\n",
    "    \"\"\"\n",
    "    The function prints all arguments to standard output.\n",
    "    \"\"\"\n",
    "\n",
    "    print(param)\n",
    "    print(other_param)\n",
    "    for arg in args:\n",
    "        print(arg)\n",
    "\n",
    "    print(\"\\n\")\n",
    "\n",
    "\n",
    "teste_args(\"carlos\", \"oliveira\", 24, \"python\")\n",
    "\n",
    "teste_args(\"Carro\", 100, 50, \"Pedra\")\n",
    "\n",
    "teste_args(\"brasil\", \"Paí\", \"Mundo\", \"Carro\", 100, 50, \"Pedra\")\n",
    "\n",
    "teste_args(\"brasil\", \"País\", \"Gol\", \"Carro\", 10)\n"
   ]
  },
  {
   "attachments": {},
   "cell_type": "markdown",
   "metadata": {},
   "source": [
    "Question 02"
   ]
  },
  {
   "cell_type": "code",
   "execution_count": 33,
   "metadata": {},
   "outputs": [
    {
     "name": "stdout",
     "output_type": "stream",
     "text": [
      "the final product is 100\n"
     ]
    }
   ],
   "source": [
    "def multiply_numbers(*args: int) -> None:\n",
    "    \"\"\"\n",
    "    Calculates the product of all the arguments passed.\n",
    "\n",
    "    Args:\n",
    "        *args: a variable number of numerical arguments to be multiplied.\n",
    "\n",
    "    Returns:\n",
    "        None. The function prints the product of the arguments in the standard output.\n",
    "    \"\"\"\n",
    "\n",
    "    final_product = 1\n",
    "\n",
    "    for arg in args:\n",
    "        final_product = final_product * arg\n",
    "\n",
    "    print(f\"the final product is {final_product}\")\n",
    "\n",
    "\n",
    "n = input(\"type n numbers\").split()\n",
    "n_converted_in_list_of_numbers = [int(x) for x in n]\n",
    "\n",
    "multiply_numbers(*n_converted_in_list_of_numbers)\n"
   ]
  },
  {
   "attachments": {},
   "cell_type": "markdown",
   "metadata": {},
   "source": [
    "Question 03"
   ]
  },
  {
   "cell_type": "code",
   "execution_count": 32,
   "metadata": {},
   "outputs": [
    {
     "name": "stdout",
     "output_type": "stream",
     "text": [
      "arg1 = Carro\n",
      "arg2 = 100\n",
      "nome = jose\n",
      "chave = teste\n",
      "\n",
      "\n",
      "arg1 = Carro\n",
      "arg2 = 100\n",
      "nome = jose\n",
      "chave = teste\n",
      "outrachave = brasil\n",
      "oo = python\n",
      "\n",
      "\n"
     ]
    }
   ],
   "source": [
    "def test_kwargs(arg1, arg2, **kwargs) -> None:\n",
    "    \"\"\"\n",
    "    The function prints all arguments to standard output.\n",
    "    \"\"\"\n",
    "\n",
    "    print(f\"arg1 = {arg1}\")\n",
    "    print(f\"arg2 = {arg2}\")\n",
    "    for key, value in kwargs.items():\n",
    "        print(f\"{key} = {value}\")\n",
    "\n",
    "    print(\"\\n\")\n",
    "\n",
    "\n",
    "test_kwargs(\"Carro\", 100, nome=\"jose\", chave=\"teste\")\n",
    "\n",
    "test_kwargs(\"Carro\", 100, nome=\"jose\", chave=\"teste\",\n",
    "            outrachave=\"brasil\", oo=\"python\")\n"
   ]
  }
 ],
 "metadata": {
  "kernelspec": {
   "display_name": "Python 3",
   "language": "python",
   "name": "python3"
  },
  "language_info": {
   "name": "python",
   "version": "3.11.2"
  },
  "orig_nbformat": 4,
  "vscode": {
   "interpreter": {
    "hash": "20527b3a8cbf72b3df8cab8923eeac6e6752d4bb535fe93fb2bb8b34083f7c9b"
   }
  }
 },
 "nbformat": 4,
 "nbformat_minor": 2
}
