{
 "cells": [
  {
   "attachments": {},
   "cell_type": "markdown",
   "metadata": {},
   "source": [
    "Faça um programa que leia nome e média de um aluno, guardando também a situação em um dicionário (se nota maior que 7 aprovado se não reprovado). No final, mostre o conteúdo gravado no dicionário. "
   ]
  },
  {
   "cell_type": "code",
   "execution_count": 20,
   "metadata": {},
   "outputs": [
    {
     "name": "stdout",
     "output_type": "stream",
     "text": [
      "dictionary content:{'name': 'carlos', 'grade': 9.0, 'result': 'passed'}\n"
     ]
    }
   ],
   "source": [
    "from typing import Dict\n",
    "\n",
    "\n",
    "student_name = input(\"enter the name of the student\")\n",
    "\n",
    "while True:\n",
    "    student_grade = float(\n",
    "        input(\"enter the grade of the student between 0 and 10\"))\n",
    "    if student_grade >= 0 and student_grade <= 10:\n",
    "        break\n",
    "\n",
    "\n",
    "def passed_or_failed(grade: float) -> str:\n",
    "    \"\"\"\n",
    "    This function takes a grade as input and returns \"passed\" if the grade is\n",
    "    greater than or equal to 7 and \"failed\" otherwise.\n",
    "    \"\"\"\n",
    "\n",
    "    if grade >= 7:\n",
    "        return \"passed\"\n",
    "\n",
    "    return \"failed\"\n",
    "\n",
    "\n",
    "def show_dict(dict: Dict) -> None:\n",
    "    \"\"\"\n",
    "    Prints the dictionary content to the standard output.\n",
    "    \"\"\"\n",
    "\n",
    "    print(f\"dictionary content:{dict}\")\n",
    "\n",
    "\n",
    "student_dict = {\n",
    "    \"name\": student_name,\n",
    "    \"grade\": student_grade,\n",
    "    \"result\": passed_or_failed(student_grade)\n",
    "}\n",
    "\n",
    "show_dict(student_dict)\n"
   ]
  }
 ],
 "metadata": {
  "kernelspec": {
   "display_name": "Python 3",
   "language": "python",
   "name": "python3"
  },
  "language_info": {
   "codemirror_mode": {
    "name": "ipython",
    "version": 3
   },
   "file_extension": ".py",
   "mimetype": "text/x-python",
   "name": "python",
   "nbconvert_exporter": "python",
   "pygments_lexer": "ipython3",
   "version": "3.11.2"
  },
  "orig_nbformat": 4,
  "vscode": {
   "interpreter": {
    "hash": "8c306c216fa3c182df22c6016bc7ef2799f0fcfe60a9237aff1a3a7fdcce1a61"
   }
  }
 },
 "nbformat": 4,
 "nbformat_minor": 2
}
