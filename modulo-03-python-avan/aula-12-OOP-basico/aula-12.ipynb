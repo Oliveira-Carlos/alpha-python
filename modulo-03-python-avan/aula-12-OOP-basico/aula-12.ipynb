{
 "cells": [
  {
   "attachments": {},
   "cell_type": "markdown",
   "metadata": {},
   "source": [
    "Crie uma classe que represente uma viagem de avião, onde temos como atributos os aeroportos de origem e de destino. \n",
    "\n",
    "Caso queiramos somar uma viagem de A para B com uma de B para C, o resultado precisa ser uma viagem de A para C."
   ]
  },
  {
   "cell_type": "code",
   "execution_count": 4,
   "metadata": {},
   "outputs": [
    {
     "name": "stdout",
     "output_type": "stream",
     "text": [
      "Trip from Fortaleza to Salvador\n",
      "Trip from Salvador to São Paulo\n",
      "Trip from Fortaleza to São Paulo\n"
     ]
    }
   ],
   "source": [
    "class Airplane_trip:\n",
    "    \"\"\"\n",
    "    A class that represents an airplane trip between two airports\n",
    "    \"\"\"\n",
    "\n",
    "    def __init__(self, origin: str, destination: str) -> None:\n",
    "        self.origin = origin\n",
    "        self.destination = destination\n",
    "\n",
    "    def __str__(self) -> str:\n",
    "        return f\"Trip from {self.origin} to {self.destination}\"\n",
    "\n",
    "    def __add__(self, other_trip):\n",
    "        return self + other_trip\n",
    "\n",
    "\n",
    "firt_trip = Airplane_trip(\"Fortaleza\", \"Salvador\")\n",
    "second_trip = Airplane_trip(\"Salvador\", \"São Paulo\")\n",
    "third_trip = Airplane_trip(\"Fortaleza\", \"São Paulo\")\n",
    "\n",
    "print(firt_trip)\n",
    "print(second_trip)\n",
    "print(third_trip)\n"
   ]
  }
 ],
 "metadata": {
  "kernelspec": {
   "display_name": "Python 3",
   "language": "python",
   "name": "python3"
  },
  "language_info": {
   "codemirror_mode": {
    "name": "ipython",
    "version": 3
   },
   "file_extension": ".py",
   "mimetype": "text/x-python",
   "name": "python",
   "nbconvert_exporter": "python",
   "pygments_lexer": "ipython3",
   "version": "3.11.2"
  },
  "orig_nbformat": 4,
  "vscode": {
   "interpreter": {
    "hash": "8c306c216fa3c182df22c6016bc7ef2799f0fcfe60a9237aff1a3a7fdcce1a61"
   }
  }
 },
 "nbformat": 4,
 "nbformat_minor": 2
}
