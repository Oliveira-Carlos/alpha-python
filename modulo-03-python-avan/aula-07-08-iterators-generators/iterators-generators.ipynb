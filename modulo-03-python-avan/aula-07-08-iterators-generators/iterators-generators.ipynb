{
 "cells": [
  {
   "attachments": {},
   "cell_type": "markdown",
   "metadata": {},
   "source": [
    "Crie uma função chamada “count_up” recebe x (int) e retorna um Generator que retorna os números menores que x da sequência: \n",
    "\n",
    "1, 2, 4, 7, 11, 16, 22, 29, 37, 46, 56, 67, … \n",
    "\n",
    "onde a diferença de um termo da sequência para o anterior aumenta em uma unidade."
   ]
  },
  {
   "cell_type": "code",
   "execution_count": 27,
   "metadata": {},
   "outputs": [
    {
     "name": "stdout",
     "output_type": "stream",
     "text": [
      "1\n",
      "2\n",
      "4\n",
      "7\n",
      "11\n",
      "16\n",
      "22\n",
      "29\n",
      "37\n",
      "46\n",
      "56\n",
      "67\n",
      "79\n"
     ]
    }
   ],
   "source": [
    "from typing import Generator\n",
    "\n",
    "\n",
    "def count_up(x: int) -> Generator[int, None, None]:\n",
    "    \"\"\"\n",
    "    Returns a generator that produces numbers smaller than x from the sequence:\n",
    "    1, 2, 4, 7, 11, 16, 22, 29, 37, 46, 56, 67, ...\n",
    "    where the difference between two terms in the sequence increases by one.\n",
    "\n",
    "    Args:\n",
    "        x: An integer number, the upper limit for the sequence of numbers.\n",
    "\n",
    "    Yields:\n",
    "        The numbers smaller than x from the sequence.\n",
    "\n",
    "    Example:\n",
    "        >>> for i in count_up(20):\n",
    "        ...     print(i)\n",
    "        ...\n",
    "        1\n",
    "        2\n",
    "        4\n",
    "        7\n",
    "        11\n",
    "        16\n",
    "    \"\"\"\n",
    "\n",
    "    a = 1\n",
    "    b = 1\n",
    "    while b < x:\n",
    "        a, b = b, b + (b - a + 1)\n",
    "        yield a\n",
    "\n",
    "\n",
    "user_number = int(input(\"type a integer\"))\n",
    "\n",
    "for i in count_up(user_number):\n",
    "    print(i)\n"
   ]
  }
 ],
 "metadata": {
  "kernelspec": {
   "display_name": "Python 3",
   "language": "python",
   "name": "python3"
  },
  "language_info": {
   "codemirror_mode": {
    "name": "ipython",
    "version": 3
   },
   "file_extension": ".py",
   "mimetype": "text/x-python",
   "name": "python",
   "nbconvert_exporter": "python",
   "pygments_lexer": "ipython3",
   "version": "3.11.2"
  },
  "orig_nbformat": 4,
  "vscode": {
   "interpreter": {
    "hash": "8c306c216fa3c182df22c6016bc7ef2799f0fcfe60a9237aff1a3a7fdcce1a61"
   }
  }
 },
 "nbformat": 4,
 "nbformat_minor": 2
}
