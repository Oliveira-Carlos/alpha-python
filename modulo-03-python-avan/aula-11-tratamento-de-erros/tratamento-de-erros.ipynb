{
 "cells": [
  {
   "cell_type": "code",
   "execution_count": 69,
   "metadata": {},
   "outputs": [
    {
     "name": "stdout",
     "output_type": "stream",
     "text": [
      "you cannot divide a number by a string\n",
      "My name is carlos Oliveira\n"
     ]
    }
   ],
   "source": [
    "n = input(\"type a number\")\n",
    "\n",
    "try:\n",
    "    n = int(n)\n",
    "    result = 1 / n\n",
    "except ZeroDivisionError:\n",
    "    print(\"you cannot divide by zero\")\n",
    "except ValueError:\n",
    "    print(\"you cannot divide a number by a string\")\n",
    "except Exception as err:\n",
    "    print(f\"error: {err}\")\n",
    "else:\n",
    "    print(f\"the result of division is {result}\")\n",
    "finally:\n",
    "    print(\"My name is carlos Oliveira\")\n"
   ]
  }
 ],
 "metadata": {
  "kernelspec": {
   "display_name": "Python 3",
   "language": "python",
   "name": "python3"
  },
  "language_info": {
   "codemirror_mode": {
    "name": "ipython",
    "version": 3
   },
   "file_extension": ".py",
   "mimetype": "text/x-python",
   "name": "python",
   "nbconvert_exporter": "python",
   "pygments_lexer": "ipython3",
   "version": "3.11.2"
  },
  "orig_nbformat": 4,
  "vscode": {
   "interpreter": {
    "hash": "8c306c216fa3c182df22c6016bc7ef2799f0fcfe60a9237aff1a3a7fdcce1a61"
   }
  }
 },
 "nbformat": 4,
 "nbformat_minor": 2
}
